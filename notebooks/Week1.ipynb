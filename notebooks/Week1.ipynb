{
 "nbformat": 4,
 "nbformat_minor": 2,
 "metadata": {
  "language_info": {
   "name": "python",
   "codemirror_mode": {
    "name": "ipython",
    "version": 3
   },
   "version": "3.7.3-final"
  },
  "orig_nbformat": 2,
  "file_extension": ".py",
  "mimetype": "text/x-python",
  "name": "python",
  "npconvert_exporter": "python",
  "pygments_lexer": "ipython3",
  "version": 3,
  "kernelspec": {
   "name": "python37364bitenvvenv8b66ddec37ee47db9ddceb600de920a3",
   "display_name": "Python 3.7.3 64-bit ('env': venv)"
  }
 },
 "cells": [
  {
   "cell_type": "code",
   "execution_count": 19,
   "metadata": {},
   "outputs": [],
   "source": [
    "import os\n",
    "import sys\n",
    "sys.path.insert(0, os.path.abspath('..'))\n",
    "\n",
    "import numpy as np\n",
    "import matplotlib.pyplot as plt\n",
    "from sklearn.metrics import confusion_matrix\n",
    "\n",
    "from utils.load_config import load_config\n",
    "from data_loader.data_loader_wk1 import DataLoaderWeek1\n",
    "from models.model_wk1 import ModelWeek1"
   ]
  },
  {
   "cell_type": "code",
   "execution_count": 26,
   "metadata": {},
   "outputs": [
    {
     "data": {
      "text/plain": "{'image_size': 50,\n 'epochs': 100,\n 'data_sets': {'week1_data_train': {'image_data': ['../data/Week1/2dft.dat',\n    '../data/Week1/2dft.i.dat'],\n   'label_data': '../data/Week1/2dftn.dat'}},\n 'data_train_split': 0.8,\n 'data_validation_split': 0.8,\n 'data_batch_size': 32,\n 'data_num_classes': 3}"
     },
     "execution_count": 26,
     "metadata": {},
     "output_type": "execute_result"
    }
   ],
   "source": [
    "config = load_config(\"../config/config_wk1.yml\")\n",
    "config"
   ]
  },
  {
   "cell_type": "code",
   "execution_count": 3,
   "metadata": {},
   "outputs": [],
   "source": [
    "data_loader = DataLoaderWeek1(config)\n",
    "\n",
    "train_data_set, test_data_set, validation_data_set = data_loader.load_data_set(\"week1_data_train\")"
   ]
  },
  {
   "cell_type": "code",
   "execution_count": 4,
   "metadata": {},
   "outputs": [
    {
     "name": "stdout",
     "output_type": "stream",
     "text": "Model: \"sequential\"\n_________________________________________________________________\nLayer (type)                 Output Shape              Param #   \n=================================================================\nconv2d (Conv2D)              (None, 48, 48, 32)        320       \n_________________________________________________________________\nconv2d_1 (Conv2D)            (None, 46, 46, 64)        18496     \n_________________________________________________________________\nmax_pooling2d (MaxPooling2D) (None, 23, 23, 64)        0         \n_________________________________________________________________\ndropout (Dropout)            (None, 23, 23, 64)        0         \n_________________________________________________________________\nflatten (Flatten)            (None, 33856)             0         \n_________________________________________________________________\ndense (Dense)                (None, 128)               4333696   \n_________________________________________________________________\ndropout_1 (Dropout)          (None, 128)               0         \n_________________________________________________________________\ndense_1 (Dense)              (None, 3)                 387       \n=================================================================\nTotal params: 4,352,899\nTrainable params: 4,352,899\nNon-trainable params: 0\n_________________________________________________________________\n"
    }
   ],
   "source": [
    "model_wk1 = ModelWeek1(config)\n",
    "model = model_wk1.get_uncompiled_model()\n",
    "model = model_wk1.compile_model(model)\n",
    "model.summary()"
   ]
  },
  {
   "cell_type": "code",
   "execution_count": 27,
   "metadata": {},
   "outputs": [
    {
     "name": "stdout",
     "output_type": "stream",
     "text": "Train for 50 steps, validate for 50 steps\nEpoch 1/100\n50/50 [==============================] - 9s 183ms/step - loss: 1.0435 - accuracy: 0.6175 - val_loss: 1.0396 - val_accuracy: 0.6125\nEpoch 2/100\n50/50 [==============================] - 9s 185ms/step - loss: 1.0381 - accuracy: 0.6300 - val_loss: 1.0359 - val_accuracy: 0.6225\nEpoch 3/100\n50/50 [==============================] - 10s 199ms/step - loss: 1.0333 - accuracy: 0.6531 - val_loss: 1.0326 - val_accuracy: 0.6219\nEpoch 4/100\n50/50 [==============================] - 9s 179ms/step - loss: 1.0313 - accuracy: 0.6431 - val_loss: 1.0271 - val_accuracy: 0.6388\nEpoch 5/100\n50/50 [==============================] - 9s 181ms/step - loss: 1.0274 - accuracy: 0.6456 - val_loss: 1.0233 - val_accuracy: 0.6469\nEpoch 6/100\n50/50 [==============================] - 9s 181ms/step - loss: 1.0222 - accuracy: 0.6625 - val_loss: 1.0200 - val_accuracy: 0.6506\nEpoch 7/100\n50/50 [==============================] - 9s 182ms/step - loss: 1.0201 - accuracy: 0.6556 - val_loss: 1.0161 - val_accuracy: 0.6456\nEpoch 8/100\n50/50 [==============================] - 9s 185ms/step - loss: 1.0141 - accuracy: 0.6631 - val_loss: 1.0109 - val_accuracy: 0.6488\nEpoch 9/100\n50/50 [==============================] - 10s 194ms/step - loss: 1.0088 - accuracy: 0.6606 - val_loss: 1.0073 - val_accuracy: 0.6456\nEpoch 10/100\n50/50 [==============================] - 10s 192ms/step - loss: 1.0040 - accuracy: 0.6781 - val_loss: 1.0014 - val_accuracy: 0.6556\nEpoch 11/100\n50/50 [==============================] - 9s 186ms/step - loss: 1.0004 - accuracy: 0.6687 - val_loss: 0.9957 - val_accuracy: 0.6556\nEpoch 12/100\n50/50 [==============================] - 9s 182ms/step - loss: 0.9963 - accuracy: 0.6606 - val_loss: 0.9927 - val_accuracy: 0.6506\nEpoch 13/100\n50/50 [==============================] - 9s 184ms/step - loss: 0.9904 - accuracy: 0.6750 - val_loss: 0.9890 - val_accuracy: 0.6488\nEpoch 14/100\n50/50 [==============================] - 9s 186ms/step - loss: 0.9839 - accuracy: 0.6731 - val_loss: 0.9840 - val_accuracy: 0.6488\nEpoch 15/100\n50/50 [==============================] - 10s 191ms/step - loss: 0.9873 - accuracy: 0.6625 - val_loss: 0.9784 - val_accuracy: 0.6575\nEpoch 16/100\n50/50 [==============================] - 9s 190ms/step - loss: 0.9784 - accuracy: 0.6819 - val_loss: 0.9748 - val_accuracy: 0.6519\nEpoch 17/100\n50/50 [==============================] - 10s 192ms/step - loss: 0.9726 - accuracy: 0.6762 - val_loss: 0.9702 - val_accuracy: 0.6488\nEpoch 18/100\n50/50 [==============================] - 10s 192ms/step - loss: 0.9698 - accuracy: 0.6737 - val_loss: 0.9642 - val_accuracy: 0.6562\nEpoch 19/100\n50/50 [==============================] - 10s 190ms/step - loss: 0.9682 - accuracy: 0.6562 - val_loss: 0.9619 - val_accuracy: 0.6519\nEpoch 20/100\n50/50 [==============================] - 9s 189ms/step - loss: 0.9622 - accuracy: 0.6812 - val_loss: 0.9579 - val_accuracy: 0.6556\nEpoch 21/100\n50/50 [==============================] - 9s 187ms/step - loss: 0.9592 - accuracy: 0.6800 - val_loss: 0.9503 - val_accuracy: 0.6856\nEpoch 22/100\n50/50 [==============================] - 9s 187ms/step - loss: 0.9508 - accuracy: 0.6975 - val_loss: 0.9478 - val_accuracy: 0.6606\nEpoch 23/100\n50/50 [==============================] - 9s 187ms/step - loss: 0.9513 - accuracy: 0.6837 - val_loss: 0.9438 - val_accuracy: 0.7556\nEpoch 24/100\n50/50 [==============================] - 9s 186ms/step - loss: 0.9484 - accuracy: 0.6731 - val_loss: 0.9360 - val_accuracy: 0.7669\nEpoch 25/100\n50/50 [==============================] - 9s 185ms/step - loss: 0.9393 - accuracy: 0.7125 - val_loss: 0.9331 - val_accuracy: 0.7569\nEpoch 26/100\n50/50 [==============================] - 9s 190ms/step - loss: 0.9366 - accuracy: 0.7000 - val_loss: 0.9313 - val_accuracy: 0.7519\nEpoch 27/100\n50/50 [==============================] - 10s 201ms/step - loss: 0.9325 - accuracy: 0.7000 - val_loss: 0.9265 - val_accuracy: 0.7575\nEpoch 28/100\n50/50 [==============================] - 12s 233ms/step - loss: 0.9308 - accuracy: 0.6856 - val_loss: 0.9236 - val_accuracy: 0.7538\nEpoch 29/100\n50/50 [==============================] - 9s 184ms/step - loss: 0.9249 - accuracy: 0.7019 - val_loss: 0.9168 - val_accuracy: 0.7619\nEpoch 30/100\n50/50 [==============================] - 9s 184ms/step - loss: 0.9175 - accuracy: 0.7044 - val_loss: 0.9142 - val_accuracy: 0.7700\nEpoch 31/100\n50/50 [==============================] - 9s 181ms/step - loss: 0.9230 - accuracy: 0.7019 - val_loss: 0.9130 - val_accuracy: 0.7569\nEpoch 32/100\n50/50 [==============================] - 9s 179ms/step - loss: 0.9124 - accuracy: 0.7119 - val_loss: 0.9066 - val_accuracy: 0.7600\nEpoch 33/100\n50/50 [==============================] - 10s 201ms/step - loss: 0.9168 - accuracy: 0.7031 - val_loss: 0.9036 - val_accuracy: 0.7631\nEpoch 34/100\n50/50 [==============================] - 10s 193ms/step - loss: 0.9095 - accuracy: 0.7019 - val_loss: 0.8999 - val_accuracy: 0.7713\nEpoch 35/100\n50/50 [==============================] - 12s 240ms/step - loss: 0.9065 - accuracy: 0.7006 - val_loss: 0.8981 - val_accuracy: 0.7688\nEpoch 36/100\n50/50 [==============================] - 8s 156ms/step - loss: 0.9027 - accuracy: 0.7138 - val_loss: 0.8920 - val_accuracy: 0.7725\nEpoch 37/100\n50/50 [==============================] - 8s 161ms/step - loss: 0.8986 - accuracy: 0.7156 - val_loss: 0.8892 - val_accuracy: 0.7675\nEpoch 38/100\n50/50 [==============================] - 8s 157ms/step - loss: 0.8953 - accuracy: 0.7231 - val_loss: 0.8836 - val_accuracy: 0.7806\nEpoch 39/100\n50/50 [==============================] - 7s 144ms/step - loss: 0.8933 - accuracy: 0.7250 - val_loss: 0.8827 - val_accuracy: 0.7731\nEpoch 40/100\n50/50 [==============================] - 8s 151ms/step - loss: 0.8895 - accuracy: 0.7325 - val_loss: 0.8764 - val_accuracy: 0.7781\nEpoch 41/100\n50/50 [==============================] - 9s 179ms/step - loss: 0.8860 - accuracy: 0.7356 - val_loss: 0.8748 - val_accuracy: 0.7744\nEpoch 42/100\n50/50 [==============================] - 8s 153ms/step - loss: 0.8830 - accuracy: 0.7312 - val_loss: 0.8732 - val_accuracy: 0.7744\nEpoch 43/100\n50/50 [==============================] - 10s 210ms/step - loss: 0.8820 - accuracy: 0.7325 - val_loss: 0.8703 - val_accuracy: 0.7675\nEpoch 44/100\n50/50 [==============================] - 9s 188ms/step - loss: 0.8748 - accuracy: 0.7406 - val_loss: 0.8689 - val_accuracy: 0.7713\nEpoch 45/100\n50/50 [==============================] - 10s 195ms/step - loss: 0.8756 - accuracy: 0.7431 - val_loss: 0.8631 - val_accuracy: 0.7700\nEpoch 46/100\n50/50 [==============================] - 9s 179ms/step - loss: 0.8757 - accuracy: 0.7406 - val_loss: 0.8615 - val_accuracy: 0.7719\nEpoch 47/100\n50/50 [==============================] - 9s 181ms/step - loss: 0.8708 - accuracy: 0.7312 - val_loss: 0.8573 - val_accuracy: 0.7713\nEpoch 48/100\n50/50 [==============================] - 9s 178ms/step - loss: 0.8670 - accuracy: 0.7487 - val_loss: 0.8564 - val_accuracy: 0.7650\nEpoch 49/100\n50/50 [==============================] - 9s 183ms/step - loss: 0.8660 - accuracy: 0.7431 - val_loss: 0.8505 - val_accuracy: 0.7731\nEpoch 50/100\n50/50 [==============================] - 9s 185ms/step - loss: 0.8744 - accuracy: 0.7331 - val_loss: 0.8515 - val_accuracy: 0.7669\nEpoch 51/100\n50/50 [==============================] - 9s 185ms/step - loss: 0.8568 - accuracy: 0.7606 - val_loss: 0.8490 - val_accuracy: 0.7663\nEpoch 52/100\n50/50 [==============================] - 9s 179ms/step - loss: 0.8612 - accuracy: 0.7381 - val_loss: 0.8471 - val_accuracy: 0.7725\nEpoch 53/100\n50/50 [==============================] - 9s 179ms/step - loss: 0.8566 - accuracy: 0.7538 - val_loss: 0.8423 - val_accuracy: 0.7713\nEpoch 54/100\n50/50 [==============================] - 9s 180ms/step - loss: 0.8472 - accuracy: 0.7575 - val_loss: 0.8410 - val_accuracy: 0.7700\nEpoch 55/100\n22/50 [============>.................] - ETA: 4s - loss: 0.8543 - accuracy: 0.7685"
    }
   ],
   "source": [
    "epochs = config.get(\"epochs\", 100)\n",
    "\n",
    "model.fit(\n",
    "    train_data_set,\n",
    "    steps_per_epoch=50,\n",
    "    epochs=epochs,\n",
    "    validation_data=validation_data_set,\n",
    "    validation_steps=50,\n",
    "    verbose=1,\n",
    ")"
   ]
  },
  {
   "cell_type": "code",
   "execution_count": 7,
   "metadata": {},
   "outputs": [],
   "source": [
    "model_wk1.save_model_and_weights_to_disk(model, \"model.json\", \"model.h5\")"
   ]
  },
  {
   "cell_type": "code",
   "execution_count": 24,
   "metadata": {},
   "outputs": [],
   "source": [
    "correct_labels = []\n",
    "predicted_labels = []\n",
    "\n",
    "for image, label in test_data_set:\n",
    "    predicted = model.predict(image)\n",
    "\n",
    "    for val in label.numpy(): correct_labels.append(val[0])\n",
    "    for val in predicted: predicted_labels.append(np.argmax(val))\n",
    "    # predicted_labels.append(predicted)"
   ]
  },
  {
   "cell_type": "code",
   "execution_count": 25,
   "metadata": {},
   "outputs": [
    {
     "name": "stdout",
     "output_type": "stream",
     "text": "[[199   0   0]\n [ 25 153  12]\n [211   0   0]]\n"
    }
   ],
   "source": [
    "print(confusion_matrix(correct_labels, predicted_labels))"
   ]
  },
  {
   "cell_type": "code",
   "execution_count": null,
   "metadata": {},
   "outputs": [],
   "source": []
  }
 ]
}