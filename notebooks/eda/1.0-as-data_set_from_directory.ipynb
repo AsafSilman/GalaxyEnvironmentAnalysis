{
 "nbformat": 4,
 "nbformat_minor": 2,
 "metadata": {
  "language_info": {
   "name": "python",
   "codemirror_mode": {
    "name": "ipython",
    "version": 3
   },
   "version": "3.7.3-final"
  },
  "orig_nbformat": 2,
  "file_extension": ".py",
  "mimetype": "text/x-python",
  "name": "python",
  "npconvert_exporter": "python",
  "pygments_lexer": "ipython3",
  "version": 3,
  "kernelspec": {
   "name": "python37364bitenvvenv8b66ddec37ee47db9ddceb600de920a3",
   "display_name": "Python 3.7.3 64-bit ('env': venv)"
  }
 },
 "cells": [
  {
   "cell_type": "code",
   "execution_count": 2,
   "metadata": {},
   "outputs": [],
   "source": [
    "import tensorflow as tf\n",
    "import os\n",
    "\n",
    "from pathlib import Path\n",
    "\n",
    "AUTOTUNE = tf.data.experimental.AUTOTUNE\n",
    "IMG_SIZE = 50"
   ]
  },
  {
   "cell_type": "code",
   "execution_count": 3,
   "metadata": {},
   "outputs": [],
   "source": [
    "data_dir = Path(\"../../data/processed\")"
   ]
  },
  {
   "cell_type": "code",
   "execution_count": 12,
   "metadata": {},
   "outputs": [],
   "source": [
    "def gen():\n",
    "    data_generator = tf.keras.preprocessing.image.ImageDataGenerator(rescale=1./255,)\n",
    "\n",
    "    train_generator = data_generator.flow_from_directory(\n",
    "        data_dir/'test',\n",
    "        target_size=(IMG_SIZE,IMG_SIZE),\n",
    "        color_mode='grayscale'\n",
    "    )\n",
    "\n",
    "    for image, label in train_generator:\n",
    "        for i in range(image.shape[0]):\n",
    "            yield image[i],label[i]"
   ]
  },
  {
   "cell_type": "code",
   "execution_count": 20,
   "metadata": {},
   "outputs": [],
   "source": [
    "test_data_dir = data_dir/'test'\n",
    "\n",
    "data_set = tf.data.Dataset.from_generator(\n",
    "    gen,\n",
    "    output_types=(tf.float32, tf.float32),\n",
    "    output_shapes=(\n",
    "        tf.TensorShape([IMG_SIZE, IMG_SIZE, 1]),\n",
    "        tf.TensorShape([3])\n",
    "    )\n",
    ")"
   ]
  },
  {
   "cell_type": "code",
   "execution_count": 21,
   "metadata": {},
   "outputs": [
    {
     "name": "stdout",
     "output_type": "stream",
     "text": "Found 560 images belonging to 3 classes.\nImage shape:  (50, 50, 1)\nLabel:  (3,)\n"
    }
   ],
   "source": [
    "img = None\n",
    "for image, label in data_set.take(1):\n",
    "  img = image.numpy()\n",
    "  print(\"Image shape: \", image.numpy().shape)\n",
    "  print(\"Label: \", label.numpy().shape)"
   ]
  },
  {
   "cell_type": "code",
   "execution_count": null,
   "metadata": {},
   "outputs": [],
   "source": []
  }
 ]
}