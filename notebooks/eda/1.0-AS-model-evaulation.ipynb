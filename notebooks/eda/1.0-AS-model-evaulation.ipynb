{
 "nbformat": 4,
 "nbformat_minor": 2,
 "metadata": {
  "language_info": {
   "name": "python",
   "codemirror_mode": {
    "name": "ipython",
    "version": 3
   },
   "version": "3.7.3-final"
  },
  "orig_nbformat": 2,
  "file_extension": ".py",
  "mimetype": "text/x-python",
  "name": "python",
  "npconvert_exporter": "python",
  "pygments_lexer": "ipython3",
  "version": 3,
  "kernelspec": {
   "name": "python37364bitenvvenv8b66ddec37ee47db9ddceb600de920a3",
   "display_name": "Python 3.7.3 64-bit ('env': venv)"
  }
 },
 "cells": [
  {
   "cell_type": "code",
   "execution_count": 7,
   "metadata": {},
   "outputs": [
    {
     "data": {
      "text/plain": "{'image_size': 50,\n 'epochs': 100,\n 'data_raw_path': 'data/raw',\n 'data_interim_path': 'data/interim',\n 'data_processed_path': 'data/processed',\n 'data_labels': {0: 'TID', 1: 'RPS', 2: 'ISO'},\n 'data_files': [{'file': 'A.t.m1.dir.tar.gz',\n   'data_set_type': 'categorical',\n   'label_start': 0},\n  {'file': 'A.r.m1.dir.tar.gz',\n   'data_set_type': 'categorical',\n   'label_start': 1},\n  {'file': 'A.i.m1.dir.tar.gz',\n   'data_set_type': 'categorical',\n   'label_file_names': 'm1.dir/2dftn1.dat',\n   'label_start': 2}],\n 'data_train_split': 0.8,\n 'data_validation_split': 0.8,\n 'data_batch_size': 32,\n 'data_num_classes': 3,\n 'model_directory': 'models',\n 'model_name': '2-Model'}"
     },
     "execution_count": 7,
     "metadata": {},
     "output_type": "execute_result"
    }
   ],
   "source": [
    "import os\n",
    "import sys\n",
    "sys.path.insert(0, os.path.abspath('../..'))\n",
    "\n",
    "from pathlib import Path\n",
    "\n",
    "import numpy as np\n",
    "import matplotlib.pyplot as plt\n",
    "from tensorflow.keras.models import model_from_json\n",
    "from sklearn.metrics import confusion_matrix\n",
    "\n",
    "from src.data.load_data_set import load_data_set\n",
    "from src.utils.load_config import load_config\n",
    "\n",
    "config = load_config(\"../../config/config_training.yml\")\n",
    "config"
   ]
  },
  {
   "cell_type": "code",
   "execution_count": 8,
   "metadata": {},
   "outputs": [],
   "source": [
    "def load_model(model_name: str, model_directory: Path):\n",
    "    model_file = model_directory/f\"{model_name}.json\"\n",
    "    model_weights = model_directory/f\"{model_name}.h5\"\n",
    "    \n",
    "    with open(model_file) as json_file:\n",
    "        loaded_model = model_from_json(json_file.read())\n",
    "    \n",
    "    # load weights into new model\n",
    "    loaded_model.load_weights(str(model_weights))\n",
    "\n",
    "    return loaded_model"
   ]
  },
  {
   "cell_type": "code",
   "execution_count": 9,
   "metadata": {},
   "outputs": [],
   "source": [
    "model = load_model(\"2-Model\", Path(\"../../models\"))"
   ]
  },
  {
   "cell_type": "code",
   "execution_count": 10,
   "metadata": {},
   "outputs": [],
   "source": [
    "data_processed_path = Path(config.get('data_processed_path', 'data/processed'))\n",
    "\n",
    "\n",
    "test_data_set = load_data_set(config, Path(\"../..\")/data_processed_path/'test')\n"
   ]
  },
  {
   "cell_type": "code",
   "execution_count": 11,
   "metadata": {},
   "outputs": [],
   "source": [
    "predict = []\n",
    "correct = []\n",
    "\n",
    "for image, label in test_data_set.take(100):\n",
    "    predictions = model.predict(image)\n",
    "\n",
    "    for i in range(predictions.shape[0]):\n",
    "        predict.append(np.argmax(predictions[i]))\n",
    "        correct.append(np.argmax(label[i]))"
   ]
  },
  {
   "cell_type": "code",
   "execution_count": 1,
   "metadata": {},
   "outputs": [
    {
     "ename": "NameError",
     "evalue": "name 'confusion_matrix' is not defined",
     "output_type": "error",
     "traceback": [
      "\u001b[0;31m---------------------------------------------------------------------------\u001b[0m",
      "\u001b[0;31mNameError\u001b[0m                                 Traceback (most recent call last)",
      "\u001b[0;32m<ipython-input-1-fc242c2cf5b6>\u001b[0m in \u001b[0;36m<module>\u001b[0;34m\u001b[0m\n\u001b[0;32m----> 1\u001b[0;31m \u001b[0mconf_mtrx\u001b[0m \u001b[0;34m=\u001b[0m \u001b[0mconfusion_matrix\u001b[0m\u001b[0;34m(\u001b[0m\u001b[0mcorrect\u001b[0m\u001b[0;34m,\u001b[0m \u001b[0mpredict\u001b[0m\u001b[0;34m)\u001b[0m\u001b[0;34m\u001b[0m\u001b[0;34m\u001b[0m\u001b[0m\n\u001b[0m\u001b[1;32m      2\u001b[0m \u001b[0mlabels\u001b[0m \u001b[0;34m=\u001b[0m \u001b[0;34m[\u001b[0m\u001b[0;34m'TID'\u001b[0m\u001b[0;34m,\u001b[0m \u001b[0;34m'RPS'\u001b[0m\u001b[0;34m,\u001b[0m \u001b[0;34m'ISO'\u001b[0m\u001b[0;34m]\u001b[0m\u001b[0;34m\u001b[0m\u001b[0;34m\u001b[0m\u001b[0m\n\u001b[1;32m      3\u001b[0m \u001b[0;34m\u001b[0m\u001b[0m\n\u001b[1;32m      4\u001b[0m \u001b[0mfig\u001b[0m\u001b[0;34m,\u001b[0m \u001b[0max\u001b[0m \u001b[0;34m=\u001b[0m \u001b[0mplt\u001b[0m\u001b[0;34m.\u001b[0m\u001b[0msubplots\u001b[0m\u001b[0;34m(\u001b[0m\u001b[0mfigsize\u001b[0m\u001b[0;34m=\u001b[0m\u001b[0;34m(\u001b[0m\u001b[0;36m7\u001b[0m\u001b[0;34m,\u001b[0m \u001b[0;36m7\u001b[0m\u001b[0;34m)\u001b[0m\u001b[0;34m)\u001b[0m\u001b[0;34m\u001b[0m\u001b[0;34m\u001b[0m\u001b[0m\n\u001b[1;32m      5\u001b[0m \u001b[0;34m\u001b[0m\u001b[0m\n",
      "\u001b[0;31mNameError\u001b[0m: name 'confusion_matrix' is not defined"
     ]
    }
   ],
   "source": [
    "conf_mtrx = confusion_matrix(correct, predict)\n",
    "labels = ['TID', 'RPS', 'ISO']\n",
    "\n",
    "fig, ax = plt.subplots(figsize=(7, 7))\n",
    "\n",
    "# Using matshow here just because it sets the ticks up nicely. imshow is faster.\n",
    "ax.matshow(conf_mtrx, cmap=\"Blues\")\n",
    "\n",
    "for (i, j), z in np.ndenumerate(conf_mtrx):\n",
    "    ax.text(\n",
    "        j,i, \n",
    "        '{:0.1f}'.format(z),\n",
    "        ha='center',\n",
    "        va='center',\n",
    "        bbox=dict(boxstyle='round', facecolor='white', edgecolor='0.3'))\n",
    "\n",
    "ax.set_xticklabels(['']+labels)\n",
    "ax.set_yticklabels(['']+labels)\n",
    "ax.set_xlabel(\"Predicted Label\")\n",
    "ax.set_ylabel(\"Actual Label\")\n",
    "\n",
    "\n",
    "plt.title(\"Confusion Matirx of Model\")\n",
    "\n",
    "plt.show()"
   ]
  },
  {
   "cell_type": "code",
   "execution_count": null,
   "metadata": {},
   "outputs": [],
   "source": []
  }
 ]
}