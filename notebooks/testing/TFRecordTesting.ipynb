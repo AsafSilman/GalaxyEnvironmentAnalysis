{
 "cells": [
  {
   "cell_type": "code",
   "execution_count": 17,
   "metadata": {},
   "outputs": [],
   "source": [
    "import tensorflow as tf\n",
    "import numpy as np\n",
    "\n",
    "import PIL.Image\n",
    "import IPython.display as display"
   ]
  },
  {
   "cell_type": "code",
   "execution_count": 31,
   "metadata": {},
   "outputs": [
    {
     "data": {
      "text/plain": [
       "<TFRecordDatasetV2 shapes: (), types: tf.string>"
      ]
     },
     "execution_count": 31,
     "metadata": {},
     "output_type": "execute_result"
    }
   ],
   "source": [
    "raw_image_dataset = tf.data.TFRecordDataset('data/processed/4_channel_categorical.validation.tfrecords', compression_type=\"GZIP\")\n",
    "raw_image_dataset"
   ]
  },
  {
   "cell_type": "code",
   "execution_count": 32,
   "metadata": {},
   "outputs": [],
   "source": [
    "image_feature_description = {\n",
    "    'image/height': tf.io.FixedLenFeature([], tf.int64),\n",
    "    'image/width': tf.io.FixedLenFeature([], tf.int64),\n",
    "    'image/channels': tf.io.FixedLenFeature([], tf.int64),\n",
    "    'image/label/name': tf.io.FixedLenFeature([], tf.string),\n",
    "    'image/label/value': tf.io.FixedLenFeature([], tf.int64),\n",
    "    'image/data': tf.io.FixedLenFeature([], tf.string),\n",
    "    'forces/data': tf.io.FixedLenFeature([], tf.string)\n",
    "}\n",
    "\n",
    "def _parse_image_function(example_proto):\n",
    "  # Parse the input tf.Example proto using the dictionary above.\n",
    "  return tf.io.parse_single_example(example_proto, image_feature_description)"
   ]
  },
  {
   "cell_type": "code",
   "execution_count": 33,
   "metadata": {},
   "outputs": [
    {
     "data": {
      "text/plain": [
       "<MapDataset shapes: {forces/data: (), image/channels: (), image/data: (), image/height: (), image/label/name: (), image/label/value: (), image/width: ()}, types: {forces/data: tf.string, image/channels: tf.int64, image/data: tf.string, image/height: tf.int64, image/label/name: tf.string, image/label/value: tf.int64, image/width: tf.int64}>"
      ]
     },
     "execution_count": 33,
     "metadata": {},
     "output_type": "execute_result"
    }
   ],
   "source": [
    "parsed_image_dataset = raw_image_dataset.map(_parse_image_function)\n",
    "parsed_image_dataset"
   ]
  },
  {
   "cell_type": "code",
   "execution_count": 35,
   "metadata": {},
   "outputs": [
    {
     "name": "stdout",
     "output_type": "stream",
     "text": [
      "tf.Tensor(50, shape=(), dtype=int64)\n"
     ]
    },
    {
     "data": {
      "image/png": "[encoded data removed]",
      "text/plain": [
       "<PIL.Image.Image image mode=RGB size=50x50 at 0x130A7CF28>"
      ]
     },
     "metadata": {},
     "output_type": "display_data"
    }
   ],
   "source": [
    "for image_features in parsed_image_dataset:\n",
    "    decoded_image = tf.io.decode_raw(image_features[\"image/data\"], tf.float32)\n",
    "    decoded_image = tf.reshape(decoded_image, [50, 50, 4])\n",
    "    \n",
    "    print(image_features[\"image/height\"])\n",
    "    \n",
    "#     print(decoded_image[0])\n",
    "    _3_channels = decoded_image[:,:,0:3].numpy() * 255\n",
    "    _3_channels = _3_channels.astype(np.uint8)\n",
    "    display.display(PIL.Image.fromarray(_3_channels))\n",
    "    break"
   ]
  },
  {
   "cell_type": "code",
   "execution_count": null,
   "metadata": {},
   "outputs": [],
   "source": []
  },
  {
   "cell_type": "code",
   "execution_count": null,
   "metadata": {},
   "outputs": [],
   "source": []
  }
 ],
 "metadata": {
  "kernelspec": {
   "display_name": "Python 3.7.3 64-bit ('env': venv)",
   "language": "python",
   "name": "python37364bitenvvenv8b66ddec37ee47db9ddceb600de920a3"
  },
  "language_info": {
   "codemirror_mode": {
    "name": "ipython",
    "version": 3
   },
   "file_extension": ".py",
   "mimetype": "text/x-python",
   "name": "python",
   "nbconvert_exporter": "python",
   "pygments_lexer": "ipython3",
   "version": "3.7.3"
  }
 },
 "nbformat": 4,
 "nbformat_minor": 4
}
